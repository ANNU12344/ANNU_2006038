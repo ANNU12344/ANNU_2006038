{
  "nbformat": 4,
  "nbformat_minor": 0,
  "metadata": {
    "colab": {
      "provenance": [],
      "mount_file_id": "1yQAMgPBKTivu3pSQtPegyjiTXX_ZMkVx",
      "authorship_tag": "ABX9TyPX+5xY/63HX2sXXCec+aFZ",
      "include_colab_link": true
    },
    "kernelspec": {
      "name": "python3",
      "display_name": "Python 3"
    },
    "language_info": {
      "name": "python"
    }
  },
  "cells": [
    {
      "cell_type": "markdown",
      "metadata": {
        "id": "view-in-github",
        "colab_type": "text"
      },
      "source": [
        "<a href=\"https://colab.research.google.com/github/ANNU12344/ANNU_2006038/blob/main/neenOpal_task1.ipynb\" target=\"_parent\"><img src=\"https://colab.research.google.com/assets/colab-badge.svg\" alt=\"Open In Colab\"/></a>"
      ]
    },
    {
      "cell_type": "code",
      "execution_count": 2,
      "metadata": {
        "id": "XGsekFylZLqL"
      },
      "outputs": [],
      "source": [
        "import pandas as pd\n"
      ]
    },
    {
      "cell_type": "markdown",
      "source": [
        "**Reading the data1 file**"
      ],
      "metadata": {
        "id": "dOMhd9kL2LWt"
      }
    },
    {
      "cell_type": "code",
      "source": [
        "data1=pd.read_csv(\"/content/drive/MyDrive/Task1/data1.csv\")\n",
        "data1"
      ],
      "metadata": {
        "colab": {
          "base_uri": "https://localhost:8080/",
          "height": 423
        },
        "id": "FDOeR-hXaMmS",
        "outputId": "a8cbeb64-86a5-4996-d8a1-2db28ca23cd2"
      },
      "execution_count": 3,
      "outputs": [
        {
          "output_type": "execute_result",
          "data": {
            "text/plain": [
              "            Order ID       Product ID  Qty\n",
              "0     CA-2014-100006  TEC-PH-10002075    3\n",
              "1     CA-2014-100090  FUR-TA-10003715    3\n",
              "2     CA-2014-100090  OFF-BI-10001597    6\n",
              "3     CA-2014-100293  OFF-PA-10000176    6\n",
              "4     CA-2014-100328  OFF-BI-10000343    1\n",
              "...              ...              ...  ...\n",
              "9473  US-2017-169551  OFF-PA-10004100    3\n",
              "9474  US-2017-169551  OFF-ST-10004835    3\n",
              "9475  US-2017-169551  TEC-AC-10002018    3\n",
              "9476  US-2017-169551  TEC-AC-10003033    2\n",
              "9477  US-2017-169551  TEC-PH-10001363    2\n",
              "\n",
              "[9478 rows x 3 columns]"
            ],
            "text/html": [
              "\n",
              "\n",
              "  <div id=\"df-cd160c89-85ca-4115-97ac-1c5a0f6f4cb2\">\n",
              "    <div class=\"colab-df-container\">\n",
              "      <div>\n",
              "<style scoped>\n",
              "    .dataframe tbody tr th:only-of-type {\n",
              "        vertical-align: middle;\n",
              "    }\n",
              "\n",
              "    .dataframe tbody tr th {\n",
              "        vertical-align: top;\n",
              "    }\n",
              "\n",
              "    .dataframe thead th {\n",
              "        text-align: right;\n",
              "    }\n",
              "</style>\n",
              "<table border=\"1\" class=\"dataframe\">\n",
              "  <thead>\n",
              "    <tr style=\"text-align: right;\">\n",
              "      <th></th>\n",
              "      <th>Order ID</th>\n",
              "      <th>Product ID</th>\n",
              "      <th>Qty</th>\n",
              "    </tr>\n",
              "  </thead>\n",
              "  <tbody>\n",
              "    <tr>\n",
              "      <th>0</th>\n",
              "      <td>CA-2014-100006</td>\n",
              "      <td>TEC-PH-10002075</td>\n",
              "      <td>3</td>\n",
              "    </tr>\n",
              "    <tr>\n",
              "      <th>1</th>\n",
              "      <td>CA-2014-100090</td>\n",
              "      <td>FUR-TA-10003715</td>\n",
              "      <td>3</td>\n",
              "    </tr>\n",
              "    <tr>\n",
              "      <th>2</th>\n",
              "      <td>CA-2014-100090</td>\n",
              "      <td>OFF-BI-10001597</td>\n",
              "      <td>6</td>\n",
              "    </tr>\n",
              "    <tr>\n",
              "      <th>3</th>\n",
              "      <td>CA-2014-100293</td>\n",
              "      <td>OFF-PA-10000176</td>\n",
              "      <td>6</td>\n",
              "    </tr>\n",
              "    <tr>\n",
              "      <th>4</th>\n",
              "      <td>CA-2014-100328</td>\n",
              "      <td>OFF-BI-10000343</td>\n",
              "      <td>1</td>\n",
              "    </tr>\n",
              "    <tr>\n",
              "      <th>...</th>\n",
              "      <td>...</td>\n",
              "      <td>...</td>\n",
              "      <td>...</td>\n",
              "    </tr>\n",
              "    <tr>\n",
              "      <th>9473</th>\n",
              "      <td>US-2017-169551</td>\n",
              "      <td>OFF-PA-10004100</td>\n",
              "      <td>3</td>\n",
              "    </tr>\n",
              "    <tr>\n",
              "      <th>9474</th>\n",
              "      <td>US-2017-169551</td>\n",
              "      <td>OFF-ST-10004835</td>\n",
              "      <td>3</td>\n",
              "    </tr>\n",
              "    <tr>\n",
              "      <th>9475</th>\n",
              "      <td>US-2017-169551</td>\n",
              "      <td>TEC-AC-10002018</td>\n",
              "      <td>3</td>\n",
              "    </tr>\n",
              "    <tr>\n",
              "      <th>9476</th>\n",
              "      <td>US-2017-169551</td>\n",
              "      <td>TEC-AC-10003033</td>\n",
              "      <td>2</td>\n",
              "    </tr>\n",
              "    <tr>\n",
              "      <th>9477</th>\n",
              "      <td>US-2017-169551</td>\n",
              "      <td>TEC-PH-10001363</td>\n",
              "      <td>2</td>\n",
              "    </tr>\n",
              "  </tbody>\n",
              "</table>\n",
              "<p>9478 rows × 3 columns</p>\n",
              "</div>\n",
              "      <button class=\"colab-df-convert\" onclick=\"convertToInteractive('df-cd160c89-85ca-4115-97ac-1c5a0f6f4cb2')\"\n",
              "              title=\"Convert this dataframe to an interactive table.\"\n",
              "              style=\"display:none;\">\n",
              "\n",
              "  <svg xmlns=\"http://www.w3.org/2000/svg\" height=\"24px\"viewBox=\"0 0 24 24\"\n",
              "       width=\"24px\">\n",
              "    <path d=\"M0 0h24v24H0V0z\" fill=\"none\"/>\n",
              "    <path d=\"M18.56 5.44l.94 2.06.94-2.06 2.06-.94-2.06-.94-.94-2.06-.94 2.06-2.06.94zm-11 1L8.5 8.5l.94-2.06 2.06-.94-2.06-.94L8.5 2.5l-.94 2.06-2.06.94zm10 10l.94 2.06.94-2.06 2.06-.94-2.06-.94-.94-2.06-.94 2.06-2.06.94z\"/><path d=\"M17.41 7.96l-1.37-1.37c-.4-.4-.92-.59-1.43-.59-.52 0-1.04.2-1.43.59L10.3 9.45l-7.72 7.72c-.78.78-.78 2.05 0 2.83L4 21.41c.39.39.9.59 1.41.59.51 0 1.02-.2 1.41-.59l7.78-7.78 2.81-2.81c.8-.78.8-2.07 0-2.86zM5.41 20L4 18.59l7.72-7.72 1.47 1.35L5.41 20z\"/>\n",
              "  </svg>\n",
              "      </button>\n",
              "\n",
              "\n",
              "\n",
              "    <div id=\"df-3fc8e198-7fd1-40b8-adfd-b9f11bf1cfd4\">\n",
              "      <button class=\"colab-df-quickchart\" onclick=\"quickchart('df-3fc8e198-7fd1-40b8-adfd-b9f11bf1cfd4')\"\n",
              "              title=\"Suggest charts.\"\n",
              "              style=\"display:none;\">\n",
              "\n",
              "<svg xmlns=\"http://www.w3.org/2000/svg\" height=\"24px\"viewBox=\"0 0 24 24\"\n",
              "     width=\"24px\">\n",
              "    <g>\n",
              "        <path d=\"M19 3H5c-1.1 0-2 .9-2 2v14c0 1.1.9 2 2 2h14c1.1 0 2-.9 2-2V5c0-1.1-.9-2-2-2zM9 17H7v-7h2v7zm4 0h-2V7h2v10zm4 0h-2v-4h2v4z\"/>\n",
              "    </g>\n",
              "</svg>\n",
              "      </button>\n",
              "    </div>\n",
              "\n",
              "<style>\n",
              "  .colab-df-quickchart {\n",
              "    background-color: #E8F0FE;\n",
              "    border: none;\n",
              "    border-radius: 50%;\n",
              "    cursor: pointer;\n",
              "    display: none;\n",
              "    fill: #1967D2;\n",
              "    height: 32px;\n",
              "    padding: 0 0 0 0;\n",
              "    width: 32px;\n",
              "  }\n",
              "\n",
              "  .colab-df-quickchart:hover {\n",
              "    background-color: #E2EBFA;\n",
              "    box-shadow: 0px 1px 2px rgba(60, 64, 67, 0.3), 0px 1px 3px 1px rgba(60, 64, 67, 0.15);\n",
              "    fill: #174EA6;\n",
              "  }\n",
              "\n",
              "  [theme=dark] .colab-df-quickchart {\n",
              "    background-color: #3B4455;\n",
              "    fill: #D2E3FC;\n",
              "  }\n",
              "\n",
              "  [theme=dark] .colab-df-quickchart:hover {\n",
              "    background-color: #434B5C;\n",
              "    box-shadow: 0px 1px 3px 1px rgba(0, 0, 0, 0.15);\n",
              "    filter: drop-shadow(0px 1px 2px rgba(0, 0, 0, 0.3));\n",
              "    fill: #FFFFFF;\n",
              "  }\n",
              "</style>\n",
              "\n",
              "    <script>\n",
              "      async function quickchart(key) {\n",
              "        const containerElement = document.querySelector('#' + key);\n",
              "        const charts = await google.colab.kernel.invokeFunction(\n",
              "            'suggestCharts', [key], {});\n",
              "      }\n",
              "    </script>\n",
              "\n",
              "      <script>\n",
              "\n",
              "function displayQuickchartButton(domScope) {\n",
              "  let quickchartButtonEl =\n",
              "    domScope.querySelector('#df-3fc8e198-7fd1-40b8-adfd-b9f11bf1cfd4 button.colab-df-quickchart');\n",
              "  quickchartButtonEl.style.display =\n",
              "    google.colab.kernel.accessAllowed ? 'block' : 'none';\n",
              "}\n",
              "\n",
              "        displayQuickchartButton(document);\n",
              "      </script>\n",
              "      <style>\n",
              "    .colab-df-container {\n",
              "      display:flex;\n",
              "      flex-wrap:wrap;\n",
              "      gap: 12px;\n",
              "    }\n",
              "\n",
              "    .colab-df-convert {\n",
              "      background-color: #E8F0FE;\n",
              "      border: none;\n",
              "      border-radius: 50%;\n",
              "      cursor: pointer;\n",
              "      display: none;\n",
              "      fill: #1967D2;\n",
              "      height: 32px;\n",
              "      padding: 0 0 0 0;\n",
              "      width: 32px;\n",
              "    }\n",
              "\n",
              "    .colab-df-convert:hover {\n",
              "      background-color: #E2EBFA;\n",
              "      box-shadow: 0px 1px 2px rgba(60, 64, 67, 0.3), 0px 1px 3px 1px rgba(60, 64, 67, 0.15);\n",
              "      fill: #174EA6;\n",
              "    }\n",
              "\n",
              "    [theme=dark] .colab-df-convert {\n",
              "      background-color: #3B4455;\n",
              "      fill: #D2E3FC;\n",
              "    }\n",
              "\n",
              "    [theme=dark] .colab-df-convert:hover {\n",
              "      background-color: #434B5C;\n",
              "      box-shadow: 0px 1px 3px 1px rgba(0, 0, 0, 0.15);\n",
              "      filter: drop-shadow(0px 1px 2px rgba(0, 0, 0, 0.3));\n",
              "      fill: #FFFFFF;\n",
              "    }\n",
              "  </style>\n",
              "\n",
              "      <script>\n",
              "        const buttonEl =\n",
              "          document.querySelector('#df-cd160c89-85ca-4115-97ac-1c5a0f6f4cb2 button.colab-df-convert');\n",
              "        buttonEl.style.display =\n",
              "          google.colab.kernel.accessAllowed ? 'block' : 'none';\n",
              "\n",
              "        async function convertToInteractive(key) {\n",
              "          const element = document.querySelector('#df-cd160c89-85ca-4115-97ac-1c5a0f6f4cb2');\n",
              "          const dataTable =\n",
              "            await google.colab.kernel.invokeFunction('convertToInteractive',\n",
              "                                                     [key], {});\n",
              "          if (!dataTable) return;\n",
              "\n",
              "          const docLinkHtml = 'Like what you see? Visit the ' +\n",
              "            '<a target=\"_blank\" href=https://colab.research.google.com/notebooks/data_table.ipynb>data table notebook</a>'\n",
              "            + ' to learn more about interactive tables.';\n",
              "          element.innerHTML = '';\n",
              "          dataTable['output_type'] = 'display_data';\n",
              "          await google.colab.output.renderOutput(dataTable, element);\n",
              "          const docLink = document.createElement('div');\n",
              "          docLink.innerHTML = docLinkHtml;\n",
              "          element.appendChild(docLink);\n",
              "        }\n",
              "      </script>\n",
              "    </div>\n",
              "  </div>\n"
            ]
          },
          "metadata": {},
          "execution_count": 3
        }
      ]
    },
    {
      "cell_type": "markdown",
      "source": [
        "**Reading the data2 file**"
      ],
      "metadata": {
        "id": "LP3BeKAc2Qf5"
      }
    },
    {
      "cell_type": "code",
      "source": [
        "data2=pd.read_csv(\"/content/drive/MyDrive/Task1/data2.csv\")\n",
        "data2"
      ],
      "metadata": {
        "colab": {
          "base_uri": "https://localhost:8080/",
          "height": 423
        },
        "id": "p0uSW2vJab5t",
        "outputId": "994428c2-0bf3-4ac3-dc8d-a37175bd04f2"
      },
      "execution_count": 4,
      "outputs": [
        {
          "output_type": "execute_result",
          "data": {
            "text/plain": [
              "            Order ID       Product ID  Qty\n",
              "0     CA-2014-100090  FUR-TA-10003715    3\n",
              "1     CA-2014-100090  OFF-BI-10001597    6\n",
              "2     CA-2014-100293  OFF-PA-10000176    6\n",
              "3     CA-2014-100328  OFF-BI-10000343    1\n",
              "4     CA-2014-100363  OFF-FA-10000611    2\n",
              "...              ...              ...  ...\n",
              "9474  US-2017-169551  OFF-PA-10004100    3\n",
              "9475  US-2017-169551  OFF-ST-10004835    3\n",
              "9476  US-2017-169551  TEC-AC-10002018    3\n",
              "9477  US-2017-169551  TEC-AC-10003033    2\n",
              "9478  US-2017-169551  TEC-PH-10001363    2\n",
              "\n",
              "[9479 rows x 3 columns]"
            ],
            "text/html": [
              "\n",
              "\n",
              "  <div id=\"df-e09dea0f-956c-4b91-8471-16950de6586a\">\n",
              "    <div class=\"colab-df-container\">\n",
              "      <div>\n",
              "<style scoped>\n",
              "    .dataframe tbody tr th:only-of-type {\n",
              "        vertical-align: middle;\n",
              "    }\n",
              "\n",
              "    .dataframe tbody tr th {\n",
              "        vertical-align: top;\n",
              "    }\n",
              "\n",
              "    .dataframe thead th {\n",
              "        text-align: right;\n",
              "    }\n",
              "</style>\n",
              "<table border=\"1\" class=\"dataframe\">\n",
              "  <thead>\n",
              "    <tr style=\"text-align: right;\">\n",
              "      <th></th>\n",
              "      <th>Order ID</th>\n",
              "      <th>Product ID</th>\n",
              "      <th>Qty</th>\n",
              "    </tr>\n",
              "  </thead>\n",
              "  <tbody>\n",
              "    <tr>\n",
              "      <th>0</th>\n",
              "      <td>CA-2014-100090</td>\n",
              "      <td>FUR-TA-10003715</td>\n",
              "      <td>3</td>\n",
              "    </tr>\n",
              "    <tr>\n",
              "      <th>1</th>\n",
              "      <td>CA-2014-100090</td>\n",
              "      <td>OFF-BI-10001597</td>\n",
              "      <td>6</td>\n",
              "    </tr>\n",
              "    <tr>\n",
              "      <th>2</th>\n",
              "      <td>CA-2014-100293</td>\n",
              "      <td>OFF-PA-10000176</td>\n",
              "      <td>6</td>\n",
              "    </tr>\n",
              "    <tr>\n",
              "      <th>3</th>\n",
              "      <td>CA-2014-100328</td>\n",
              "      <td>OFF-BI-10000343</td>\n",
              "      <td>1</td>\n",
              "    </tr>\n",
              "    <tr>\n",
              "      <th>4</th>\n",
              "      <td>CA-2014-100363</td>\n",
              "      <td>OFF-FA-10000611</td>\n",
              "      <td>2</td>\n",
              "    </tr>\n",
              "    <tr>\n",
              "      <th>...</th>\n",
              "      <td>...</td>\n",
              "      <td>...</td>\n",
              "      <td>...</td>\n",
              "    </tr>\n",
              "    <tr>\n",
              "      <th>9474</th>\n",
              "      <td>US-2017-169551</td>\n",
              "      <td>OFF-PA-10004100</td>\n",
              "      <td>3</td>\n",
              "    </tr>\n",
              "    <tr>\n",
              "      <th>9475</th>\n",
              "      <td>US-2017-169551</td>\n",
              "      <td>OFF-ST-10004835</td>\n",
              "      <td>3</td>\n",
              "    </tr>\n",
              "    <tr>\n",
              "      <th>9476</th>\n",
              "      <td>US-2017-169551</td>\n",
              "      <td>TEC-AC-10002018</td>\n",
              "      <td>3</td>\n",
              "    </tr>\n",
              "    <tr>\n",
              "      <th>9477</th>\n",
              "      <td>US-2017-169551</td>\n",
              "      <td>TEC-AC-10003033</td>\n",
              "      <td>2</td>\n",
              "    </tr>\n",
              "    <tr>\n",
              "      <th>9478</th>\n",
              "      <td>US-2017-169551</td>\n",
              "      <td>TEC-PH-10001363</td>\n",
              "      <td>2</td>\n",
              "    </tr>\n",
              "  </tbody>\n",
              "</table>\n",
              "<p>9479 rows × 3 columns</p>\n",
              "</div>\n",
              "      <button class=\"colab-df-convert\" onclick=\"convertToInteractive('df-e09dea0f-956c-4b91-8471-16950de6586a')\"\n",
              "              title=\"Convert this dataframe to an interactive table.\"\n",
              "              style=\"display:none;\">\n",
              "\n",
              "  <svg xmlns=\"http://www.w3.org/2000/svg\" height=\"24px\"viewBox=\"0 0 24 24\"\n",
              "       width=\"24px\">\n",
              "    <path d=\"M0 0h24v24H0V0z\" fill=\"none\"/>\n",
              "    <path d=\"M18.56 5.44l.94 2.06.94-2.06 2.06-.94-2.06-.94-.94-2.06-.94 2.06-2.06.94zm-11 1L8.5 8.5l.94-2.06 2.06-.94-2.06-.94L8.5 2.5l-.94 2.06-2.06.94zm10 10l.94 2.06.94-2.06 2.06-.94-2.06-.94-.94-2.06-.94 2.06-2.06.94z\"/><path d=\"M17.41 7.96l-1.37-1.37c-.4-.4-.92-.59-1.43-.59-.52 0-1.04.2-1.43.59L10.3 9.45l-7.72 7.72c-.78.78-.78 2.05 0 2.83L4 21.41c.39.39.9.59 1.41.59.51 0 1.02-.2 1.41-.59l7.78-7.78 2.81-2.81c.8-.78.8-2.07 0-2.86zM5.41 20L4 18.59l7.72-7.72 1.47 1.35L5.41 20z\"/>\n",
              "  </svg>\n",
              "      </button>\n",
              "\n",
              "\n",
              "\n",
              "    <div id=\"df-40beda21-7b02-4476-b867-e557f515c191\">\n",
              "      <button class=\"colab-df-quickchart\" onclick=\"quickchart('df-40beda21-7b02-4476-b867-e557f515c191')\"\n",
              "              title=\"Suggest charts.\"\n",
              "              style=\"display:none;\">\n",
              "\n",
              "<svg xmlns=\"http://www.w3.org/2000/svg\" height=\"24px\"viewBox=\"0 0 24 24\"\n",
              "     width=\"24px\">\n",
              "    <g>\n",
              "        <path d=\"M19 3H5c-1.1 0-2 .9-2 2v14c0 1.1.9 2 2 2h14c1.1 0 2-.9 2-2V5c0-1.1-.9-2-2-2zM9 17H7v-7h2v7zm4 0h-2V7h2v10zm4 0h-2v-4h2v4z\"/>\n",
              "    </g>\n",
              "</svg>\n",
              "      </button>\n",
              "    </div>\n",
              "\n",
              "<style>\n",
              "  .colab-df-quickchart {\n",
              "    background-color: #E8F0FE;\n",
              "    border: none;\n",
              "    border-radius: 50%;\n",
              "    cursor: pointer;\n",
              "    display: none;\n",
              "    fill: #1967D2;\n",
              "    height: 32px;\n",
              "    padding: 0 0 0 0;\n",
              "    width: 32px;\n",
              "  }\n",
              "\n",
              "  .colab-df-quickchart:hover {\n",
              "    background-color: #E2EBFA;\n",
              "    box-shadow: 0px 1px 2px rgba(60, 64, 67, 0.3), 0px 1px 3px 1px rgba(60, 64, 67, 0.15);\n",
              "    fill: #174EA6;\n",
              "  }\n",
              "\n",
              "  [theme=dark] .colab-df-quickchart {\n",
              "    background-color: #3B4455;\n",
              "    fill: #D2E3FC;\n",
              "  }\n",
              "\n",
              "  [theme=dark] .colab-df-quickchart:hover {\n",
              "    background-color: #434B5C;\n",
              "    box-shadow: 0px 1px 3px 1px rgba(0, 0, 0, 0.15);\n",
              "    filter: drop-shadow(0px 1px 2px rgba(0, 0, 0, 0.3));\n",
              "    fill: #FFFFFF;\n",
              "  }\n",
              "</style>\n",
              "\n",
              "    <script>\n",
              "      async function quickchart(key) {\n",
              "        const containerElement = document.querySelector('#' + key);\n",
              "        const charts = await google.colab.kernel.invokeFunction(\n",
              "            'suggestCharts', [key], {});\n",
              "      }\n",
              "    </script>\n",
              "\n",
              "      <script>\n",
              "\n",
              "function displayQuickchartButton(domScope) {\n",
              "  let quickchartButtonEl =\n",
              "    domScope.querySelector('#df-40beda21-7b02-4476-b867-e557f515c191 button.colab-df-quickchart');\n",
              "  quickchartButtonEl.style.display =\n",
              "    google.colab.kernel.accessAllowed ? 'block' : 'none';\n",
              "}\n",
              "\n",
              "        displayQuickchartButton(document);\n",
              "      </script>\n",
              "      <style>\n",
              "    .colab-df-container {\n",
              "      display:flex;\n",
              "      flex-wrap:wrap;\n",
              "      gap: 12px;\n",
              "    }\n",
              "\n",
              "    .colab-df-convert {\n",
              "      background-color: #E8F0FE;\n",
              "      border: none;\n",
              "      border-radius: 50%;\n",
              "      cursor: pointer;\n",
              "      display: none;\n",
              "      fill: #1967D2;\n",
              "      height: 32px;\n",
              "      padding: 0 0 0 0;\n",
              "      width: 32px;\n",
              "    }\n",
              "\n",
              "    .colab-df-convert:hover {\n",
              "      background-color: #E2EBFA;\n",
              "      box-shadow: 0px 1px 2px rgba(60, 64, 67, 0.3), 0px 1px 3px 1px rgba(60, 64, 67, 0.15);\n",
              "      fill: #174EA6;\n",
              "    }\n",
              "\n",
              "    [theme=dark] .colab-df-convert {\n",
              "      background-color: #3B4455;\n",
              "      fill: #D2E3FC;\n",
              "    }\n",
              "\n",
              "    [theme=dark] .colab-df-convert:hover {\n",
              "      background-color: #434B5C;\n",
              "      box-shadow: 0px 1px 3px 1px rgba(0, 0, 0, 0.15);\n",
              "      filter: drop-shadow(0px 1px 2px rgba(0, 0, 0, 0.3));\n",
              "      fill: #FFFFFF;\n",
              "    }\n",
              "  </style>\n",
              "\n",
              "      <script>\n",
              "        const buttonEl =\n",
              "          document.querySelector('#df-e09dea0f-956c-4b91-8471-16950de6586a button.colab-df-convert');\n",
              "        buttonEl.style.display =\n",
              "          google.colab.kernel.accessAllowed ? 'block' : 'none';\n",
              "\n",
              "        async function convertToInteractive(key) {\n",
              "          const element = document.querySelector('#df-e09dea0f-956c-4b91-8471-16950de6586a');\n",
              "          const dataTable =\n",
              "            await google.colab.kernel.invokeFunction('convertToInteractive',\n",
              "                                                     [key], {});\n",
              "          if (!dataTable) return;\n",
              "\n",
              "          const docLinkHtml = 'Like what you see? Visit the ' +\n",
              "            '<a target=\"_blank\" href=https://colab.research.google.com/notebooks/data_table.ipynb>data table notebook</a>'\n",
              "            + ' to learn more about interactive tables.';\n",
              "          element.innerHTML = '';\n",
              "          dataTable['output_type'] = 'display_data';\n",
              "          await google.colab.output.renderOutput(dataTable, element);\n",
              "          const docLink = document.createElement('div');\n",
              "          docLink.innerHTML = docLinkHtml;\n",
              "          element.appendChild(docLink);\n",
              "        }\n",
              "      </script>\n",
              "    </div>\n",
              "  </div>\n"
            ]
          },
          "metadata": {},
          "execution_count": 4
        }
      ]
    },
    {
      "cell_type": "markdown",
      "source": [
        "** Identify the Records (Order ID + Product ID combination) present in data1 but missing in data2 (Specify the number of records missing in your answer)**\n"
      ],
      "metadata": {
        "id": "SRQN4XMS2aU7"
      }
    },
    {
      "cell_type": "code",
      "source": [
        "merged_data = pd.merge(data1, data2, on=['Order ID', 'Product ID'], how='left', indicator=True)\n",
        "\n",
        "# Filter out the rows where the '_merge' column indicates left-only (missing in data2)\n",
        "missing_records = merged_data[merged_data['_merge'] == 'left_only']\n",
        "\n",
        "# Extract the missing records as a new DataFrame\n",
        "missing_records = missing_records.drop(columns=['_merge'])\n",
        "\n",
        "# Output the missing records\n",
        "print(missing_records)"
      ],
      "metadata": {
        "colab": {
          "base_uri": "https://localhost:8080/"
        },
        "id": "IdEm2RYbcPbb",
        "outputId": "2a119ccc-dd4a-4d03-cab0-cf1fe9ab0065"
      },
      "execution_count": 5,
      "outputs": [
        {
          "output_type": "stream",
          "name": "stdout",
          "text": [
            "            Order ID       Product ID  Qty_x  Qty_y\n",
            "0     CA-2014-100006  TEC-PH-10002075      3    NaN\n",
            "10    CA-2014-100678  OFF-EN-10000056      3    NaN\n",
            "19    CA-2014-100895  OFF-AR-10004511      2    NaN\n",
            "35    CA-2014-101560  OFF-BI-10000309      3    NaN\n",
            "61    CA-2014-102673  OFF-LA-10001771     12    NaN\n",
            "...              ...              ...    ...    ...\n",
            "9390  US-2017-160836  OFF-AP-10001626      2    NaN\n",
            "9403  US-2017-162558  FUR-FU-10002364      2    NaN\n",
            "9420  US-2017-163657  OFF-BI-10000138      5    NaN\n",
            "9427  US-2017-164056  FUR-TA-10001307      5    NaN\n",
            "9435  US-2017-165456  FUR-CH-10003981      6    NaN\n",
            "\n",
            "[507 rows x 4 columns]\n"
          ]
        }
      ]
    },
    {
      "cell_type": "code",
      "source": [
        "missing_records.to_csv('task1_a.csv')"
      ],
      "metadata": {
        "id": "QTNcSwpqh4Or"
      },
      "execution_count": 6,
      "outputs": []
    },
    {
      "cell_type": "code",
      "source": [
        "task1_count=pd.read_csv(\"/content/task1_a.csv\")\n",
        "total_rows = len(task1_count)\n",
        "total_rows"
      ],
      "metadata": {
        "colab": {
          "base_uri": "https://localhost:8080/"
        },
        "id": "ur4FZKDniSwJ",
        "outputId": "1924476b-57f7-4bfd-9202-09c138c8703a"
      },
      "execution_count": 7,
      "outputs": [
        {
          "output_type": "execute_result",
          "data": {
            "text/plain": [
              "507"
            ]
          },
          "metadata": {},
          "execution_count": 7
        }
      ]
    },
    {
      "cell_type": "code",
      "source": [
        "datatypes1 = data1.dtypes\n",
        "datatypes1"
      ],
      "metadata": {
        "colab": {
          "base_uri": "https://localhost:8080/"
        },
        "id": "ot4VhCFgeBju",
        "outputId": "04645a2a-463a-4fd3-f9dc-8ac292a928c9"
      },
      "execution_count": 8,
      "outputs": [
        {
          "output_type": "execute_result",
          "data": {
            "text/plain": [
              "Order ID      object\n",
              "Product ID    object\n",
              "Qty            int64\n",
              "dtype: object"
            ]
          },
          "metadata": {},
          "execution_count": 8
        }
      ]
    },
    {
      "cell_type": "code",
      "source": [
        "value_to_check=(\"CA-2014-100006\",\"TEC-PH-10002075\")\n",
        "combination_exists1 = (data2['Order ID'] == value_to_check[0]) & (data2['Product ID'] == value_to_check[1])"
      ],
      "metadata": {
        "id": "_TQEqV6EfJZl"
      },
      "execution_count": 9,
      "outputs": []
    },
    {
      "cell_type": "code",
      "source": [],
      "metadata": {
        "id": "18bRiktNf2eP"
      },
      "execution_count": null,
      "outputs": []
    },
    {
      "cell_type": "code",
      "source": [
        "if combination_exists1.any():\n",
        "    print(\"Combination exists in the dataset 2.\")\n",
        "else:\n",
        "    print(\"Combination does not exist in the dataset 2\")"
      ],
      "metadata": {
        "colab": {
          "base_uri": "https://localhost:8080/"
        },
        "id": "Dt4QD9-XfohK",
        "outputId": "dd6b5fe6-4636-4f1d-f324-58b702ca5e12"
      },
      "execution_count": 10,
      "outputs": [
        {
          "output_type": "stream",
          "name": "stdout",
          "text": [
            "Combination does not exist in the dataset 2\n"
          ]
        }
      ]
    },
    {
      "cell_type": "code",
      "source": [
        "value_to_check=(\"CA-2014-100678\",\"OFF-EN-10000056\")\n",
        "combination_exists2 = (data2['Order ID'] == value_to_check[0]) & (data2['Product ID'] == value_to_check[1])"
      ],
      "metadata": {
        "id": "Dh4g8dVOf4tx"
      },
      "execution_count": 11,
      "outputs": []
    },
    {
      "cell_type": "code",
      "source": [
        "if combination_exists2.any():\n",
        "    print(\"Combination exists in the dataset 2.\")\n",
        "else:\n",
        "    print(\"Combination does not exist in the dataset 2\")"
      ],
      "metadata": {
        "colab": {
          "base_uri": "https://localhost:8080/"
        },
        "id": "U-nqpOK0gPu1",
        "outputId": "d3ee3ab6-ef78-429b-849c-3ca4a95d9d7a"
      },
      "execution_count": 12,
      "outputs": [
        {
          "output_type": "stream",
          "name": "stdout",
          "text": [
            "Combination does not exist in the dataset 2\n"
          ]
        }
      ]
    },
    {
      "cell_type": "code",
      "source": [
        "value_to_check=(\"CA-2014-100678\",\"OFF-EN-10000056\")\n",
        "combination_exists3 = (data1['Order ID'] == value_to_check[0]) & (data1['Product ID'] == value_to_check[1])"
      ],
      "metadata": {
        "id": "Oa2oxuIvgU78"
      },
      "execution_count": 13,
      "outputs": []
    },
    {
      "cell_type": "code",
      "source": [
        "if combination_exists3.any():\n",
        "    print(\"Combination exists in the dataset 1.\")\n",
        "else:\n",
        "    print(\"Combination does not exist in the dataset 1\")"
      ],
      "metadata": {
        "colab": {
          "base_uri": "https://localhost:8080/"
        },
        "id": "4K44HI5YggXS",
        "outputId": "7f8eb31b-c255-4d6d-ebb5-6aa484975e29"
      },
      "execution_count": 14,
      "outputs": [
        {
          "output_type": "stream",
          "name": "stdout",
          "text": [
            "Combination exists in the dataset 1.\n"
          ]
        }
      ]
    },
    {
      "cell_type": "markdown",
      "source": [
        "task1_b part"
      ],
      "metadata": {
        "id": "8oOBojXYpVMk"
      }
    },
    {
      "cell_type": "markdown",
      "source": [
        "**How to identify the Records (Order ID + Product ID combination) missing in data1 but present in data2 (Specify the number of records missing in your answer) **\n"
      ],
      "metadata": {
        "id": "HZV3A0SAqRTl"
      }
    },
    {
      "cell_type": "code",
      "source": [],
      "metadata": {
        "id": "NURa-yv9qQDS"
      },
      "execution_count": null,
      "outputs": []
    },
    {
      "cell_type": "code",
      "source": [
        "merged_data2= pd.merge(data1, data2, on=['Order ID', 'Product ID'], how='right', indicator=True)\n",
        "\n",
        "# Filter out the rows where the '_merge' column indicates right-only (missing in data1)\n",
        "missing_records2 = merged_data2[merged_data2['_merge'] == 'right_only']\n",
        "\n",
        "# Get the number of missing records\n",
        "num_missing_records = missing_records2.shape[0]\n",
        "\n",
        "# Output the missing records and the number of missing records\n",
        "print(\"Missing Records2:\")\n",
        "print(missing_records2)\n",
        "print(\"Number of Missing Records:\", num_missing_records)"
      ],
      "metadata": {
        "colab": {
          "base_uri": "https://localhost:8080/"
        },
        "id": "LGgObpGJpe6q",
        "outputId": "e7b03e1c-b180-4fbb-9c9c-e148d8eb4283"
      },
      "execution_count": 15,
      "outputs": [
        {
          "output_type": "stream",
          "name": "stdout",
          "text": [
            "Missing Records2:\n",
            "            Order ID       Product ID  Qty_x  Qty_y      _merge\n",
            "11    CA-2014-100706  TEC-AC-10001314    NaN      2  right_only\n",
            "14    CA-2014-100762  OFF-PA-10001815    NaN      3  right_only\n",
            "30    CA-2014-101427  OFF-AR-10002257    NaN      3  right_only\n",
            "56    CA-2014-102652  FUR-FU-10001918    NaN      7  right_only\n",
            "63    CA-2014-102869  OFF-PA-10000788    NaN      3  right_only\n",
            "...              ...              ...    ...    ...         ...\n",
            "9428  US-2017-165344  OFF-BI-10003196    NaN     10  right_only\n",
            "9433  US-2017-165358  TEC-CO-10001943    NaN      5  right_only\n",
            "9455  US-2017-167920  OFF-AP-10000159    NaN      5  right_only\n",
            "9471  US-2017-169502  OFF-AP-10001947    NaN      5  right_only\n",
            "9473  US-2017-169551  FUR-BO-10001519    NaN      3  right_only\n",
            "\n",
            "[508 rows x 5 columns]\n",
            "Number of Missing Records: 508\n"
          ]
        }
      ]
    },
    {
      "cell_type": "code",
      "source": [
        "missing_records2.to_csv('task1_b.csv')\n",
        "dataset=pd.read_csv(\"/content/task1_b.csv\")\n",
        "dataset"
      ],
      "metadata": {
        "colab": {
          "base_uri": "https://localhost:8080/",
          "height": 423
        },
        "id": "gOF0-UewrWMu",
        "outputId": "1a75e92d-59c9-48de-d728-f58646f8bbd7"
      },
      "execution_count": 16,
      "outputs": [
        {
          "output_type": "execute_result",
          "data": {
            "text/plain": [
              "     Unnamed: 0        Order ID       Product ID  Qty_x  Qty_y      _merge\n",
              "0            11  CA-2014-100706  TEC-AC-10001314    NaN      2  right_only\n",
              "1            14  CA-2014-100762  OFF-PA-10001815    NaN      3  right_only\n",
              "2            30  CA-2014-101427  OFF-AR-10002257    NaN      3  right_only\n",
              "3            56  CA-2014-102652  FUR-FU-10001918    NaN      7  right_only\n",
              "4            63  CA-2014-102869  OFF-PA-10000788    NaN      3  right_only\n",
              "..          ...             ...              ...    ...    ...         ...\n",
              "503        9428  US-2017-165344  OFF-BI-10003196    NaN     10  right_only\n",
              "504        9433  US-2017-165358  TEC-CO-10001943    NaN      5  right_only\n",
              "505        9455  US-2017-167920  OFF-AP-10000159    NaN      5  right_only\n",
              "506        9471  US-2017-169502  OFF-AP-10001947    NaN      5  right_only\n",
              "507        9473  US-2017-169551  FUR-BO-10001519    NaN      3  right_only\n",
              "\n",
              "[508 rows x 6 columns]"
            ],
            "text/html": [
              "\n",
              "\n",
              "  <div id=\"df-0703ca7b-17a9-4340-95ef-d5cd73c5523f\">\n",
              "    <div class=\"colab-df-container\">\n",
              "      <div>\n",
              "<style scoped>\n",
              "    .dataframe tbody tr th:only-of-type {\n",
              "        vertical-align: middle;\n",
              "    }\n",
              "\n",
              "    .dataframe tbody tr th {\n",
              "        vertical-align: top;\n",
              "    }\n",
              "\n",
              "    .dataframe thead th {\n",
              "        text-align: right;\n",
              "    }\n",
              "</style>\n",
              "<table border=\"1\" class=\"dataframe\">\n",
              "  <thead>\n",
              "    <tr style=\"text-align: right;\">\n",
              "      <th></th>\n",
              "      <th>Unnamed: 0</th>\n",
              "      <th>Order ID</th>\n",
              "      <th>Product ID</th>\n",
              "      <th>Qty_x</th>\n",
              "      <th>Qty_y</th>\n",
              "      <th>_merge</th>\n",
              "    </tr>\n",
              "  </thead>\n",
              "  <tbody>\n",
              "    <tr>\n",
              "      <th>0</th>\n",
              "      <td>11</td>\n",
              "      <td>CA-2014-100706</td>\n",
              "      <td>TEC-AC-10001314</td>\n",
              "      <td>NaN</td>\n",
              "      <td>2</td>\n",
              "      <td>right_only</td>\n",
              "    </tr>\n",
              "    <tr>\n",
              "      <th>1</th>\n",
              "      <td>14</td>\n",
              "      <td>CA-2014-100762</td>\n",
              "      <td>OFF-PA-10001815</td>\n",
              "      <td>NaN</td>\n",
              "      <td>3</td>\n",
              "      <td>right_only</td>\n",
              "    </tr>\n",
              "    <tr>\n",
              "      <th>2</th>\n",
              "      <td>30</td>\n",
              "      <td>CA-2014-101427</td>\n",
              "      <td>OFF-AR-10002257</td>\n",
              "      <td>NaN</td>\n",
              "      <td>3</td>\n",
              "      <td>right_only</td>\n",
              "    </tr>\n",
              "    <tr>\n",
              "      <th>3</th>\n",
              "      <td>56</td>\n",
              "      <td>CA-2014-102652</td>\n",
              "      <td>FUR-FU-10001918</td>\n",
              "      <td>NaN</td>\n",
              "      <td>7</td>\n",
              "      <td>right_only</td>\n",
              "    </tr>\n",
              "    <tr>\n",
              "      <th>4</th>\n",
              "      <td>63</td>\n",
              "      <td>CA-2014-102869</td>\n",
              "      <td>OFF-PA-10000788</td>\n",
              "      <td>NaN</td>\n",
              "      <td>3</td>\n",
              "      <td>right_only</td>\n",
              "    </tr>\n",
              "    <tr>\n",
              "      <th>...</th>\n",
              "      <td>...</td>\n",
              "      <td>...</td>\n",
              "      <td>...</td>\n",
              "      <td>...</td>\n",
              "      <td>...</td>\n",
              "      <td>...</td>\n",
              "    </tr>\n",
              "    <tr>\n",
              "      <th>503</th>\n",
              "      <td>9428</td>\n",
              "      <td>US-2017-165344</td>\n",
              "      <td>OFF-BI-10003196</td>\n",
              "      <td>NaN</td>\n",
              "      <td>10</td>\n",
              "      <td>right_only</td>\n",
              "    </tr>\n",
              "    <tr>\n",
              "      <th>504</th>\n",
              "      <td>9433</td>\n",
              "      <td>US-2017-165358</td>\n",
              "      <td>TEC-CO-10001943</td>\n",
              "      <td>NaN</td>\n",
              "      <td>5</td>\n",
              "      <td>right_only</td>\n",
              "    </tr>\n",
              "    <tr>\n",
              "      <th>505</th>\n",
              "      <td>9455</td>\n",
              "      <td>US-2017-167920</td>\n",
              "      <td>OFF-AP-10000159</td>\n",
              "      <td>NaN</td>\n",
              "      <td>5</td>\n",
              "      <td>right_only</td>\n",
              "    </tr>\n",
              "    <tr>\n",
              "      <th>506</th>\n",
              "      <td>9471</td>\n",
              "      <td>US-2017-169502</td>\n",
              "      <td>OFF-AP-10001947</td>\n",
              "      <td>NaN</td>\n",
              "      <td>5</td>\n",
              "      <td>right_only</td>\n",
              "    </tr>\n",
              "    <tr>\n",
              "      <th>507</th>\n",
              "      <td>9473</td>\n",
              "      <td>US-2017-169551</td>\n",
              "      <td>FUR-BO-10001519</td>\n",
              "      <td>NaN</td>\n",
              "      <td>3</td>\n",
              "      <td>right_only</td>\n",
              "    </tr>\n",
              "  </tbody>\n",
              "</table>\n",
              "<p>508 rows × 6 columns</p>\n",
              "</div>\n",
              "      <button class=\"colab-df-convert\" onclick=\"convertToInteractive('df-0703ca7b-17a9-4340-95ef-d5cd73c5523f')\"\n",
              "              title=\"Convert this dataframe to an interactive table.\"\n",
              "              style=\"display:none;\">\n",
              "\n",
              "  <svg xmlns=\"http://www.w3.org/2000/svg\" height=\"24px\"viewBox=\"0 0 24 24\"\n",
              "       width=\"24px\">\n",
              "    <path d=\"M0 0h24v24H0V0z\" fill=\"none\"/>\n",
              "    <path d=\"M18.56 5.44l.94 2.06.94-2.06 2.06-.94-2.06-.94-.94-2.06-.94 2.06-2.06.94zm-11 1L8.5 8.5l.94-2.06 2.06-.94-2.06-.94L8.5 2.5l-.94 2.06-2.06.94zm10 10l.94 2.06.94-2.06 2.06-.94-2.06-.94-.94-2.06-.94 2.06-2.06.94z\"/><path d=\"M17.41 7.96l-1.37-1.37c-.4-.4-.92-.59-1.43-.59-.52 0-1.04.2-1.43.59L10.3 9.45l-7.72 7.72c-.78.78-.78 2.05 0 2.83L4 21.41c.39.39.9.59 1.41.59.51 0 1.02-.2 1.41-.59l7.78-7.78 2.81-2.81c.8-.78.8-2.07 0-2.86zM5.41 20L4 18.59l7.72-7.72 1.47 1.35L5.41 20z\"/>\n",
              "  </svg>\n",
              "      </button>\n",
              "\n",
              "\n",
              "\n",
              "    <div id=\"df-0f757e8d-e40c-4883-ac0b-28fd69dca26c\">\n",
              "      <button class=\"colab-df-quickchart\" onclick=\"quickchart('df-0f757e8d-e40c-4883-ac0b-28fd69dca26c')\"\n",
              "              title=\"Suggest charts.\"\n",
              "              style=\"display:none;\">\n",
              "\n",
              "<svg xmlns=\"http://www.w3.org/2000/svg\" height=\"24px\"viewBox=\"0 0 24 24\"\n",
              "     width=\"24px\">\n",
              "    <g>\n",
              "        <path d=\"M19 3H5c-1.1 0-2 .9-2 2v14c0 1.1.9 2 2 2h14c1.1 0 2-.9 2-2V5c0-1.1-.9-2-2-2zM9 17H7v-7h2v7zm4 0h-2V7h2v10zm4 0h-2v-4h2v4z\"/>\n",
              "    </g>\n",
              "</svg>\n",
              "      </button>\n",
              "    </div>\n",
              "\n",
              "<style>\n",
              "  .colab-df-quickchart {\n",
              "    background-color: #E8F0FE;\n",
              "    border: none;\n",
              "    border-radius: 50%;\n",
              "    cursor: pointer;\n",
              "    display: none;\n",
              "    fill: #1967D2;\n",
              "    height: 32px;\n",
              "    padding: 0 0 0 0;\n",
              "    width: 32px;\n",
              "  }\n",
              "\n",
              "  .colab-df-quickchart:hover {\n",
              "    background-color: #E2EBFA;\n",
              "    box-shadow: 0px 1px 2px rgba(60, 64, 67, 0.3), 0px 1px 3px 1px rgba(60, 64, 67, 0.15);\n",
              "    fill: #174EA6;\n",
              "  }\n",
              "\n",
              "  [theme=dark] .colab-df-quickchart {\n",
              "    background-color: #3B4455;\n",
              "    fill: #D2E3FC;\n",
              "  }\n",
              "\n",
              "  [theme=dark] .colab-df-quickchart:hover {\n",
              "    background-color: #434B5C;\n",
              "    box-shadow: 0px 1px 3px 1px rgba(0, 0, 0, 0.15);\n",
              "    filter: drop-shadow(0px 1px 2px rgba(0, 0, 0, 0.3));\n",
              "    fill: #FFFFFF;\n",
              "  }\n",
              "</style>\n",
              "\n",
              "    <script>\n",
              "      async function quickchart(key) {\n",
              "        const containerElement = document.querySelector('#' + key);\n",
              "        const charts = await google.colab.kernel.invokeFunction(\n",
              "            'suggestCharts', [key], {});\n",
              "      }\n",
              "    </script>\n",
              "\n",
              "      <script>\n",
              "\n",
              "function displayQuickchartButton(domScope) {\n",
              "  let quickchartButtonEl =\n",
              "    domScope.querySelector('#df-0f757e8d-e40c-4883-ac0b-28fd69dca26c button.colab-df-quickchart');\n",
              "  quickchartButtonEl.style.display =\n",
              "    google.colab.kernel.accessAllowed ? 'block' : 'none';\n",
              "}\n",
              "\n",
              "        displayQuickchartButton(document);\n",
              "      </script>\n",
              "      <style>\n",
              "    .colab-df-container {\n",
              "      display:flex;\n",
              "      flex-wrap:wrap;\n",
              "      gap: 12px;\n",
              "    }\n",
              "\n",
              "    .colab-df-convert {\n",
              "      background-color: #E8F0FE;\n",
              "      border: none;\n",
              "      border-radius: 50%;\n",
              "      cursor: pointer;\n",
              "      display: none;\n",
              "      fill: #1967D2;\n",
              "      height: 32px;\n",
              "      padding: 0 0 0 0;\n",
              "      width: 32px;\n",
              "    }\n",
              "\n",
              "    .colab-df-convert:hover {\n",
              "      background-color: #E2EBFA;\n",
              "      box-shadow: 0px 1px 2px rgba(60, 64, 67, 0.3), 0px 1px 3px 1px rgba(60, 64, 67, 0.15);\n",
              "      fill: #174EA6;\n",
              "    }\n",
              "\n",
              "    [theme=dark] .colab-df-convert {\n",
              "      background-color: #3B4455;\n",
              "      fill: #D2E3FC;\n",
              "    }\n",
              "\n",
              "    [theme=dark] .colab-df-convert:hover {\n",
              "      background-color: #434B5C;\n",
              "      box-shadow: 0px 1px 3px 1px rgba(0, 0, 0, 0.15);\n",
              "      filter: drop-shadow(0px 1px 2px rgba(0, 0, 0, 0.3));\n",
              "      fill: #FFFFFF;\n",
              "    }\n",
              "  </style>\n",
              "\n",
              "      <script>\n",
              "        const buttonEl =\n",
              "          document.querySelector('#df-0703ca7b-17a9-4340-95ef-d5cd73c5523f button.colab-df-convert');\n",
              "        buttonEl.style.display =\n",
              "          google.colab.kernel.accessAllowed ? 'block' : 'none';\n",
              "\n",
              "        async function convertToInteractive(key) {\n",
              "          const element = document.querySelector('#df-0703ca7b-17a9-4340-95ef-d5cd73c5523f');\n",
              "          const dataTable =\n",
              "            await google.colab.kernel.invokeFunction('convertToInteractive',\n",
              "                                                     [key], {});\n",
              "          if (!dataTable) return;\n",
              "\n",
              "          const docLinkHtml = 'Like what you see? Visit the ' +\n",
              "            '<a target=\"_blank\" href=https://colab.research.google.com/notebooks/data_table.ipynb>data table notebook</a>'\n",
              "            + ' to learn more about interactive tables.';\n",
              "          element.innerHTML = '';\n",
              "          dataTable['output_type'] = 'display_data';\n",
              "          await google.colab.output.renderOutput(dataTable, element);\n",
              "          const docLink = document.createElement('div');\n",
              "          docLink.innerHTML = docLinkHtml;\n",
              "          element.appendChild(docLink);\n",
              "        }\n",
              "      </script>\n",
              "    </div>\n",
              "  </div>\n"
            ]
          },
          "metadata": {},
          "execution_count": 16
        }
      ]
    },
    {
      "cell_type": "code",
      "source": [
        "print(missing_records2['Qty_y'].sum())"
      ],
      "metadata": {
        "colab": {
          "base_uri": "https://localhost:8080/"
        },
        "id": "maamnD4n3EsA",
        "outputId": "ef428202-9d0e-4c6a-a602-bd380e236c6f"
      },
      "execution_count": 17,
      "outputs": [
        {
          "output_type": "stream",
          "name": "stdout",
          "text": [
            "1956\n"
          ]
        }
      ]
    },
    {
      "cell_type": "markdown",
      "source": [
        "**Find the total number of unique records (Order ID + Product ID combination) present in the combined dataset of data1 and data2**\n"
      ],
      "metadata": {
        "id": "f46Ig4uQuUaG"
      }
    },
    {
      "cell_type": "code",
      "source": [
        "combined_data = pd.concat([data1, data2], ignore_index=True)\n",
        "\n",
        "# Find the total number of unique records (Order ID + Product ID combination)\n",
        "total_unique_records = combined_data.drop_duplicates(subset=['Order ID', 'Product ID']).shape[0]\n",
        "\n",
        "# Output the total number of unique records\n",
        "print(\"Total number of unique records:\", total_unique_records)"
      ],
      "metadata": {
        "colab": {
          "base_uri": "https://localhost:8080/"
        },
        "id": "-_tIDdeTt-hz",
        "outputId": "04e08697-55ed-4c71-c82c-918869097c89"
      },
      "execution_count": null,
      "outputs": [
        {
          "output_type": "stream",
          "name": "stdout",
          "text": [
            "Total number of unique records: 9986\n"
          ]
        }
      ]
    },
    {
      "cell_type": "code",
      "source": [
        "combined_xy = pd.concat([missing_records, missing_records2])\n",
        "print(combined_xy)"
      ],
      "metadata": {
        "colab": {
          "base_uri": "https://localhost:8080/"
        },
        "id": "SBwGOIDo3ArZ",
        "outputId": "c0e10007-b19f-4367-ac76-5cf810b75873"
      },
      "execution_count": 18,
      "outputs": [
        {
          "output_type": "stream",
          "name": "stdout",
          "text": [
            "            Order ID       Product ID  Qty_x  Qty_y      _merge\n",
            "0     CA-2014-100006  TEC-PH-10002075    3.0    NaN         NaN\n",
            "10    CA-2014-100678  OFF-EN-10000056    3.0    NaN         NaN\n",
            "19    CA-2014-100895  OFF-AR-10004511    2.0    NaN         NaN\n",
            "35    CA-2014-101560  OFF-BI-10000309    3.0    NaN         NaN\n",
            "61    CA-2014-102673  OFF-LA-10001771   12.0    NaN         NaN\n",
            "...              ...              ...    ...    ...         ...\n",
            "9428  US-2017-165344  OFF-BI-10003196    NaN   10.0  right_only\n",
            "9433  US-2017-165358  TEC-CO-10001943    NaN    5.0  right_only\n",
            "9455  US-2017-167920  OFF-AP-10000159    NaN    5.0  right_only\n",
            "9471  US-2017-169502  OFF-AP-10001947    NaN    5.0  right_only\n",
            "9473  US-2017-169551  FUR-BO-10001519    NaN    3.0  right_only\n",
            "\n",
            "[1015 rows x 5 columns]\n"
          ]
        }
      ]
    }
  ]
}